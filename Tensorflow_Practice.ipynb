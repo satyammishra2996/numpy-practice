{
  "nbformat": 4,
  "nbformat_minor": 0,
  "metadata": {
    "colab": {
      "name": " Tensorflow Practice.ipynb",
      "provenance": [],
      "collapsed_sections": [],
      "include_colab_link": true
    },
    "kernelspec": {
      "name": "python3",
      "display_name": "Python 3"
    },
    "language_info": {
      "name": "python"
    }
  },
  "cells": [
    {
      "cell_type": "markdown",
      "metadata": {
        "id": "view-in-github",
        "colab_type": "text"
      },
      "source": [
        "<a href=\"https://colab.research.google.com/github/satyammishra2996/python-practice/blob/main/Tensorflow_Practice.ipynb\" target=\"_parent\"><img src=\"https://colab.research.google.com/assets/colab-badge.svg\" alt=\"Open In Colab\"/></a>"
      ]
    },
    {
      "cell_type": "code",
      "metadata": {
        "colab": {
          "base_uri": "https://localhost:8080/"
        },
        "id": "QBma1Ya_00-1",
        "outputId": "94a0e02a-6499-429d-bf92-7ca17a4025f1"
      },
      "source": [
        "print('Hello World')"
      ],
      "execution_count": null,
      "outputs": [
        {
          "output_type": "stream",
          "text": [
            "Hello World\n"
          ],
          "name": "stdout"
        }
      ]
    },
    {
      "cell_type": "code",
      "metadata": {
        "colab": {
          "base_uri": "https://localhost:8080/"
        },
        "id": "ifCnLeGk1ZL1",
        "outputId": "b1b67423-0239-4ce0-b4ac-7a84d719fd65"
      },
      "source": [
        "import tensorflow.compat.v1 as tf\n",
        "tf.disable_v2_behavior()"
      ],
      "execution_count": null,
      "outputs": [
        {
          "output_type": "stream",
          "text": [
            "WARNING:tensorflow:From /usr/local/lib/python3.7/dist-packages/tensorflow/python/compat/v2_compat.py:96: disable_resource_variables (from tensorflow.python.ops.variable_scope) is deprecated and will be removed in a future version.\n",
            "Instructions for updating:\n",
            "non-resource variables are not supported in the long term\n"
          ],
          "name": "stdout"
        }
      ]
    },
    {
      "cell_type": "code",
      "metadata": {
        "id": "moAohDG15Y7T"
      },
      "source": [
        "# How to create constant in Tensorflow\n",
        "a=tf.constant(5.0)\n",
        "b=tf.constant(6.0)\n",
        "c=a+b"
      ],
      "execution_count": null,
      "outputs": []
    },
    {
      "cell_type": "code",
      "metadata": {
        "colab": {
          "base_uri": "https://localhost:8080/"
        },
        "id": "aCoJBvkn6xgN",
        "outputId": "25483d4d-c0de-471c-c753-67bd39722dbb"
      },
      "source": [
        "sess=tf.Session()\n",
        "output_c=sess.run(c)\n",
        "print(output_c)\n",
        "sess.close()"
      ],
      "execution_count": null,
      "outputs": [
        {
          "output_type": "stream",
          "text": [
            "11.0\n"
          ],
          "name": "stdout"
        }
      ]
    },
    {
      "cell_type": "code",
      "metadata": {
        "colab": {
          "base_uri": "https://localhost:8080/"
        },
        "id": "23GvlFk993_Y",
        "outputId": "26c13a6f-29b8-41f9-e2e8-1fa207feb0c5"
      },
      "source": [
        "# How to create placeholder in tensorflow\n",
        "a=tf.placeholder(tf.float32)\n",
        "b=tf.placeholder(tf.float32)\n",
        "mul=a*b\n",
        "sess=tf.Session()\n",
        "output=sess.run(mul,{a:[1,3],b:[2,4]})\n",
        "print(output)\n",
        "sess.close()"
      ],
      "execution_count": null,
      "outputs": [
        {
          "output_type": "stream",
          "text": [
            "[ 2. 12.]\n"
          ],
          "name": "stdout"
        }
      ]
    },
    {
      "cell_type": "code",
      "metadata": {
        "colab": {
          "base_uri": "https://localhost:8080/"
        },
        "id": "Oy1JVGJz_4NS",
        "outputId": "11a00e57-1145-4ab2-f1d4-bc7d5967532c"
      },
      "source": [
        "# How to create variable in tensorflow\n",
        "string=tf.Variable(\"He is a good boy.\",tf.string)\n",
        "op=tf.global_variables_initializer()\n",
        "sess=tf.Session()\n",
        "sess.run(op)\n",
        "print(sess.run(string))\n",
        "sess.close()"
      ],
      "execution_count": null,
      "outputs": [
        {
          "output_type": "stream",
          "text": [
            "b'He is a good boy.'\n"
          ],
          "name": "stdout"
        }
      ]
    },
    {
      "cell_type": "code",
      "metadata": {
        "id": "9RiLV00TCYFO"
      },
      "source": [
        "x=tf.constant([[5,6],[7,8]])\n",
        "z=tf.matml(x,x)"
      ],
      "execution_count": null,
      "outputs": []
    },
    {
      "cell_type": "markdown",
      "metadata": {
        "id": "_HKw3QpQ8p6G"
      },
      "source": [
        ""
      ]
    }
  ]
}